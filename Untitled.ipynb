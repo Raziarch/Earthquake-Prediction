{
 "cells": [
  {
   "cell_type": "code",
   "execution_count": 26,
   "metadata": {},
   "outputs": [
    {
     "name": "stdout",
     "output_type": "stream",
     "text": [
      "Collecting GEOS\n",
      "\u001b[?25l  Downloading https://files.pythonhosted.org/packages/7a/1c/a7ae7e2685719b31dbde13e90c6386f872b8ee2670d833f4211b4e3d5106/geos-0.2.2-py3-none-any.whl (368kB)\n",
      "\u001b[K     |████████████████████████████████| 368kB 1.4MB/s eta 0:00:01\n",
      "\u001b[?25hRequirement already satisfied: flask in /anaconda3/lib/python3.7/site-packages (from GEOS) (1.0.2)\n",
      "Requirement already satisfied: pillow in /anaconda3/lib/python3.7/site-packages (from GEOS) (5.2.0)\n",
      "Requirement already satisfied: lxml in /anaconda3/lib/python3.7/site-packages (from GEOS) (4.2.5)\n",
      "Requirement already satisfied: click>=5.1 in /anaconda3/lib/python3.7/site-packages (from flask->GEOS) (6.7)\n",
      "Requirement already satisfied: itsdangerous>=0.24 in /anaconda3/lib/python3.7/site-packages (from flask->GEOS) (0.24)\n",
      "Requirement already satisfied: Werkzeug>=0.14 in /anaconda3/lib/python3.7/site-packages (from flask->GEOS) (0.16.0)\n",
      "Requirement already satisfied: Jinja2>=2.10 in /anaconda3/lib/python3.7/site-packages (from flask->GEOS) (2.10)\n",
      "Requirement already satisfied: MarkupSafe>=0.23 in /anaconda3/lib/python3.7/site-packages (from Jinja2>=2.10->flask->GEOS) (1.0)\n",
      "Installing collected packages: GEOS\n",
      "Successfully installed GEOS-0.2.2\n",
      "\u001b[33mWARNING: You are using pip version 19.2.1, however version 19.3.1 is available.\n",
      "You should consider upgrading via the 'pip install --upgrade pip' command.\u001b[0m\n"
     ]
    }
   ],
   "source": [
    "!pip install GEOS"
   ]
  },
  {
   "cell_type": "code",
   "execution_count": null,
   "metadata": {},
   "outputs": [],
   "source": []
  }
 ],
 "metadata": {
  "kernelspec": {
   "display_name": "Python 3",
   "language": "python",
   "name": "python3"
  },
  "language_info": {
   "codemirror_mode": {
    "name": "ipython",
    "version": 3
   },
   "file_extension": ".py",
   "mimetype": "text/x-python",
   "name": "python",
   "nbconvert_exporter": "python",
   "pygments_lexer": "ipython3",
   "version": "3.7.2"
  }
 },
 "nbformat": 4,
 "nbformat_minor": 2
}
